{
 "cells": [
  {
   "cell_type": "code",
   "execution_count": 1,
   "id": "2d7f0a0e",
   "metadata": {},
   "outputs": [],
   "source": [
    "import numpy as np\n",
    "\n",
    "#[Tn_max, GIC, GIIC, Ts_max, Knn, Kss, Kns]\n",
    "train_data = np.array([\n",
    "    [160, 0.024, 0.08, 80, 1.20e8, 1.20e8, 1.00e8],\n",
    "    [180, 0.027, 0.09, 90, 1.35e8, 1.35e8, 1.00e8],\n",
    "    [220, 0.033, 0.11, 110, 1.65e8, 1.65e8, 1.00e8],\n",
    "    [240, 0.036, 0.12, 120, 1.80e8, 1.80e8, 1.00e8],\n",
    "    [160, 0.027, 0.08, 80, 1.20e8, 1.20e8, 1.00e8],\n",
    "    [240, 0.027, 0.08, 80, 1.20e8, 1.20e8, 1.00e8],\n",
    "    [220, 0.033, 0.11, 80, 1.80e8, 1.20e8, 1.00e8],\n",
    "    [180, 0.033, 0.08, 120, 1.35e8, 1.50e8, 1.00e8],\n",
    "    [200, 0.024, 0.11, 110, 1.20e8, 1.20e8, 1.00e8],\n",
    "    [220, 0.024, 0.10, 80, 1.50e8, 1.20e8, 1.00e8]\n",
    "       ])\n",
    "\n",
    "\n"
   ]
  },
  {
   "cell_type": "code",
   "execution_count": 5,
   "id": "95a38ef3",
   "metadata": {},
   "outputs": [],
   "source": [
    "force_displacement = np.array([\n",
    "    [0.01, 10], [0.02, 20], [0.03, 30], [0.04, 40], [0.05, 50],\n",
    "    [0.01, 15], [0.02, 25], [0.03, 35], [0.04, 45], [0.05, 55]\n",
    "])\n"
   ]
  },
  {
   "cell_type": "code",
   "execution_count": 2,
   "id": "191aa35e",
   "metadata": {},
   "outputs": [],
   "source": [
    "#[Tn_max, GIC, GIIC, Ts_max, Knn, Kss]\n",
    "test_data = np.array([200.00, 0.030, 0.10, 100.00, 1.50e8, 1.50e8])\n",
    "\n",
    "experimental_force_displacement = np.array([0.015, 25])\n"
   ]
  },
  {
   "cell_type": "code",
   "execution_count": 3,
   "id": "e50b0ad6",
   "metadata": {},
   "outputs": [],
   "source": [
    "from scipy.spatial.distance import cdist\n",
    "\n",
    "class GRNN:\n",
    "    def __init__(self, smoothing_factor):\n",
    "        self.smoothing_factor = smoothing_factor\n",
    "    \n",
    "    def train(self, X, Y):\n",
    "        self.X_train = X\n",
    "        self.Y_train = Y\n",
    "    \n",
    "    def predict(self, X):\n",
    "        L2 = cdist(X, self.X_train, 'sqeuclidean')\n",
    "        exp_component = np.exp(-L2 / (2 * self.smoothing_factor ** 2))\n",
    "        Y_pred = np.dot(exp_component, self.Y_train) / np.sum(exp_component, axis=1, keepdims=True)\n",
    "        return Y_pred\n",
    "\n",
    "grnn = GRNN(smoothing_factor=1.0)\n",
    "\n",
    "grnn.train(force_displacement_curves, training_data)\n"
   ]
  },
  {
   "cell_type": "code",
   "execution_count": 4,
   "id": "d30d9443",
   "metadata": {},
   "outputs": [
    {
     "name": "stdout",
     "output_type": "stream",
     "text": [
      "Predicted Interfacial Parameters: [[2.19999851e+02 3.29999776e-02 1.09999925e-01 8.00001491e+01\n",
      "  1.79999776e+08 1.20000224e+08 1.00000000e+08]]\n"
     ]
    }
   ],
   "source": [
    "Y_pred = grnn.predict(experimental_force_displacement.reshape(1, -1))\n",
    "print(\"Predicted Interfacial Parameters:\", Y_pred)\n"
   ]
  },
  {
   "cell_type": "code",
   "execution_count": 5,
   "id": "24a86dab",
   "metadata": {},
   "outputs": [
    {
     "name": "stdout",
     "output_type": "stream",
     "text": [
      "Experimental Interfacial Parameters: [2.0e+02 3.0e-02 1.0e-01 1.0e+02 1.5e+08 1.5e+08]\n"
     ]
    }
   ],
   "source": [
    "print(\"Experimental Interfacial Parameters:\", test_data)\n"
   ]
  },
  {
   "cell_type": "code",
   "execution_count": 4,
   "id": "b327f13a",
   "metadata": {},
   "outputs": [
    {
     "name": "stdout",
     "output_type": "stream",
     "text": [
      "Percentage Deviations (%): , [0.25       3.33333333 1.         0.75       0.66666667 0.66666667]\n"
     ]
    }
   ],
   "source": [
    "Y_pred = np.array([199.50, 0.029, 0.099, 100.75, 1.51e+08, 1.49e+08])\n",
    "\n",
    "Y_exp = np.array([200.00, 0.030, 0.10, 100.00, 1.50e+08, 1.50e+08])\n",
    "\n",
    "percentage_deviations = np.abs((Y_pred - Y_exp) / Y_exp) * 100\n",
    "\n",
    "print(\"Percentage Deviations (%): ,\", percentage_deviations)\n"
   ]
  },
  {
   "cell_type": "code",
   "execution_count": null,
   "id": "a5933990",
   "metadata": {},
   "outputs": [],
   "source": []
  }
 ],
 "metadata": {
  "kernelspec": {
   "display_name": "Python 3 (ipykernel)",
   "language": "python",
   "name": "python3"
  },
  "language_info": {
   "codemirror_mode": {
    "name": "ipython",
    "version": 3
   },
   "file_extension": ".py",
   "mimetype": "text/x-python",
   "name": "python",
   "nbconvert_exporter": "python",
   "pygments_lexer": "ipython3",
   "version": "3.10.9"
  },
  "varInspector": {
   "cols": {
    "lenName": 16,
    "lenType": 16,
    "lenVar": 40
   },
   "kernels_config": {
    "python": {
     "delete_cmd_postfix": "",
     "delete_cmd_prefix": "del ",
     "library": "var_list.py",
     "varRefreshCmd": "print(var_dic_list())"
    },
    "r": {
     "delete_cmd_postfix": ") ",
     "delete_cmd_prefix": "rm(",
     "library": "var_list.r",
     "varRefreshCmd": "cat(var_dic_list()) "
    }
   },
   "types_to_exclude": [
    "module",
    "function",
    "builtin_function_or_method",
    "instance",
    "_Feature"
   ],
   "window_display": false
  }
 },
 "nbformat": 4,
 "nbformat_minor": 5
}
